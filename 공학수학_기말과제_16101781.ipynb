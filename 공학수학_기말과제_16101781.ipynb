{
  "nbformat": 4,
  "nbformat_minor": 0,
  "metadata": {
    "colab": {
      "name": "공학수학_기말과제_16101781.ipynb",
      "provenance": [],
      "collapsed_sections": [],
      "include_colab_link": true
    },
    "kernelspec": {
      "name": "python3",
      "display_name": "Python 3"
    }
  },
  "cells": [
    {
      "cell_type": "markdown",
      "metadata": {
        "id": "view-in-github",
        "colab_type": "text"
      },
      "source": [
        "<a href=\"https://colab.research.google.com/github/Yooseungkuk/EngMath/blob/master/%EA%B3%B5%ED%95%99%EC%88%98%ED%95%99_%EA%B8%B0%EB%A7%90%EA%B3%BC%EC%A0%9C_16101781.ipynb\" target=\"_parent\"><img src=\"https://colab.research.google.com/assets/colab-badge.svg\" alt=\"Open In Colab\"/></a>"
      ]
    },
    {
      "cell_type": "markdown",
      "metadata": {
        "id": "hLxeGfOSSOuN",
        "colab_type": "text"
      },
      "source": [
        "# 공학수학 기말과제 \n",
        "                     16101781 유승국"
      ]
    },
    {
      "cell_type": "markdown",
      "metadata": {
        "id": "dTUBUNSTS7gP",
        "colab_type": "text"
      },
      "source": [
        "## Laplace's Equation in the Sphere\n",
        "\n",
        "---\n",
        "\n",
        "We consider the boundary value problem\n",
        "\n",
        ">$\\begin{align*}\n",
        " u_{rr} +\\frac{2}{r} u_r &+\\frac{1}{r^2}u_{\\phi\\phi} +\\frac{\\cot\\phi}{r^2} u_{\\phi} +\\frac{1}{r^2\\sin^2\\phi}u_{\\theta\\theta} = 0, \\;\\; r < R \\\\ \n",
        " u(R,\\phi,\\theta) &= g(\\phi,\\theta)\\\\ \n",
        "\\end{align*}$\n",
        "\n",
        "in a sphere of radius $R$. (a) Solve this problem by separation of variables, (b) derive $K(r,\\phi,\\theta; R,\\varphi,\\vartheta)$ in the equivalent integral formula:\n",
        "\n",
        ">$\\displaystyle u(r,\\phi,\\theta) = \\int_0^{2\\pi} \\int_0^\\pi K(r,\\phi,\\theta; R,\\varphi,\\vartheta)\\, g(\\varphi,\\vartheta) \\sin\\varphi \\,d\\varphi \\, d\\vartheta$"
      ]
    },
    {
      "cell_type": "markdown",
      "metadata": {
        "id": "6DwavzYXTcm4",
        "colab_type": "text"
      },
      "source": [
        "Solve\n",
        "\n",
        "a)\n",
        "식을 다음과 같다고 한다.\n",
        "\n",
        "\n",
        ">$u(R,\\theta,\\phi)=R(r)\\Theta(\\theta)\\Phi(\\phi)$\n",
        "\n",
        "그러면 주어진식은\n",
        "\n",
        ">$\\begin{align*}\n",
        " u_{rr} +\\frac{2}{r} u_r &+\\frac{1}{r^2}u_{\\phi\\phi} +\\frac{\\cot\\phi}{r^2} u_{\\phi} +\\frac{1}{r^2\\sin^2\\phi}u_{\\theta\\theta} = 0, \\;\\; r < R \\\\ \n",
        "\\end{align*}$\n",
        "\n",
        "\n",
        ">$\\begin{align*}\n",
        " u_{rr} +\\frac{2}{r}u_r &+\\frac{cot{\\phi}}{r^2}u_{\\phi\\phi} +\\frac{1}{{r^2}{{sin{\\phi}}^2}}u_{\\theta\\theta}=0\\\\ \n",
        " &\\Downarrow u(r,\\theta)=R(r)\\Theta(\\theta)\\Phi(\\phi)\\\\\n",
        " R''\\Theta\\Phi +\\frac{2}{r}R' \\Theta\\Phi &+\\frac{cot{\\phi}}{r^2}R \\Theta\\Phi' +\\frac{1}{{r^2}{{sin{\\phi}}^2}}R\\Theta''\\Phi = 0 \\\\\n",
        " &\\Downarrow \\\\ \n",
        " -\\frac{r^2 R''\\Phi +2rR'\\Phi +cot{\\phi}R\\Phi'}{R\\Phi} &= \\frac{\\;\\Theta''}{\\Theta} = -\\mu <0 \\\\\n",
        " &\\Downarrow \\\\\n",
        " \\Theta'' +\\mu \\Theta &=0 \\\\\n",
        " r^2 R''\\Phi +2rR'\\Phi &+cot{\\phi}R\\Phi'+\\mu R\\Phi =0\n",
        "\\end{align*}$\n",
        "\n",
        ">$\\Theta(\\theta)$를 구할 수 있다.\n",
        "\n",
        "그리고 다음과정을 수행하면\n",
        ">$\\begin{align*}\n",
        "r^2 R''\\Phi +2rR'\\Phi &+cot{\\phi}R\\Phi'+\\mu R\\Phi =0 \\\\\n",
        " &\\Downarrow \\\\\n",
        " \\frac{r^2 R''+2rR'}{R}+\\mu=\\frac{cot{\\phi}\\Phi'}{\\Phi}=-\\lambda\\\\\n",
        " &\\Downarrow \\\\ \n",
        "cot{\\phi}\\Phi'+\\lambda\\Phi=0 \\\\\n",
        " \\end{align*}$\n",
        "\n",
        ">$\\Phi(\\Phi)$를 구할 수 있다.\n",
        "\n",
        ">$\\begin{align*}\n",
        "\\frac{r^2 R''+2rR'}{R}+\\mu=-\\lambda\\\\\n",
        "&\\Downarrow \\mu+\\lambda = \\alpha\\\\\n",
        "r^2R''+2rR'+\\alpha R=0\\\\\n",
        " \\end{align*}$\n",
        "\n",
        " >R(r)를 구할 수 있다.\n",
        " 따라서 구한 값을 모두 곱하면 일반해를 구할 수 있다."
      ]
    },
    {
      "cell_type": "markdown",
      "metadata": {
        "id": "EamhjsAZShlC",
        "colab_type": "text"
      },
      "source": [
        "## Poisson's Equation for the Sphere\n",
        "\n",
        "---\n",
        "\n",
        "We consider the problem\n",
        "\n",
        ">$\\begin{align*}\n",
        " u_{rr} +\\frac{2}{r} u_r &+\\frac{1}{r^2}u_{\\phi\\phi} +\\frac{\\cot\\phi}{r^2} u_{\\phi} +\\frac{1}{r^2\\sin^2\\phi}u_{\\theta\\theta} = -F(r,\\phi,\\theta), \\;\\; r < R \\\\ \n",
        " u(R,\\phi,\\theta) &= 0\\\\ \n",
        "\\end{align*}$\n",
        "\n",
        "(a) solve by taking the finite Fourier Transforms, (b) derive $G(r,\\phi,\\theta; \\rho,\\varphi,\\vartheta)$ in the equivalent integral formula:\n",
        "\n",
        ">$\\displaystyle u(r,\\phi,\\theta) = \\int_0^{2\\pi} \\int_0^\\pi \\int_0^R G(r,\\phi,\\theta; \\rho,\\varphi,\\vartheta)\\, F(\\rho, \\varphi,\\vartheta) \\,\\rho^2 \\sin\\varphi \\,d\\rho \\,d\\varphi \\, d\\vartheta$"
      ]
    },
    {
      "cell_type": "markdown",
      "metadata": {
        "colab_type": "text",
        "id": "bCRrQaqbzY-v"
      },
      "source": [
        "Solve\n",
        "푸리에 변환의 공식은 다음과 같다.\n",
        "\n",
        ">$\\begin{align*}\n",
        " \\mathcal{F}_s [u_t] &= \\frac{d \\mathcal{F}_s [u]}{dt} \\\\ \n",
        " \\mathcal{F}_s [u_{tt}] &= \\frac{d^2 \\mathcal{F}_s [u]}{dt^2} \\\\ \n",
        " \\mathcal{F}_s [u_x] &= -\\frac{n\\pi}{L} \\mathcal{F}_c [u] \\\\\n",
        " \\mathcal{F}_s [u_{xx}]&= -\\left( \\frac{n\\pi}{L} \\right)^2 \\mathcal{F}_s [u] +\\frac{2n\\pi}{L^2} \n",
        "  \\left[ u(0,t) -(-1)^n u(L,t) \\right]\\\\ \n",
        " \\mathcal{F}_c [u_x] &= -\\frac{n\\pi}{L} \\mathcal{F}_s [u] +\\frac{2}{L} \\left[(-1)^n u(L,t) -u(0,t) \\right] \\\\ \n",
        " \\mathcal{F}_c [u_{xx}] &= -\\left(\\frac{n\\pi}{L}\\right)^2 \\mathcal{F}_c [u] +\\frac{2}{L} \\left[(-1)^n u_x(L,t) -u_x(0,t) \\right] \\\\ \n",
        "\\end{align*} $\n",
        "\n",
        ">$\\begin{align*}\n",
        "u_{rr} +\\frac{2}{r} u_r &+\\frac{1}{r^2}u_{\\phi\\phi} +\\frac{\\cot\\phi}{r^2} u_{\\phi} +\\frac{1}{r^2\\sin^2\\phi}u_{\\theta\\theta} = -F(r,\\phi,\\theta), \\;\\; r < R \\\\ \n",
        " &\\downarrow Furier sine Transfer\\\\\n",
        " \\mathcal{F}_s[u_{rr}]+\\mathcal{F}_s[\\frac{2u_{r}}{r}]+\\mathcal{F}_s[\\frac{u_{\\phi\\phi}}{r^2}]+\\mathcal{F}_s[\\frac{\\cot{\\phi}}{r^2}u_{\\phi}+\\mathcal{F}_s[\\frac{1}{r^2\\sin^2{\\phi}}u_{\\theta\\theta}]]\\\\\n",
        "\\end{align*}$\n",
        "\n",
        "따라서 푸리에 공식을 대입하여 풀면 값을 알아낼 수 있다."
      ]
    },
    {
      "cell_type": "code",
      "metadata": {
        "id": "235r-sks-kfe",
        "colab_type": "code",
        "colab": {}
      },
      "source": [
        ""
      ],
      "execution_count": 0,
      "outputs": []
    }
  ]
}